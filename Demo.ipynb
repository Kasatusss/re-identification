{
 "cells": [
  {
   "cell_type": "code",
   "execution_count": 27,
   "metadata": {},
   "outputs": [],
   "source": [
    "import pandas as pd\n",
    "import numpy as np\n",
    "\n",
    "gt_data = pd.read_csv(\"/home/kasatkin/Desktop/facenet_pytorch/data/images/names.tsv\", sep='\\t', names=['person', 'image'])\n",
    "pred_data = pd.read_csv(\"/home/kasatkin/Desktop/facenet_pytorch/output/results.csv\", sep=' ', names=['person', 'image'])\n",
    "\n",
    "y_pred = pred_data['person'].values\n",
    "y_gt = gt_data[5000:5200]['person'].values\n",
    "\n",
    "def accuracy(y_pred, y_gt):\n",
    "    \"\"\"y_pred and y_gt are 1d np.arrays\"\"\"\n",
    "    assert len(y_pred) == len(y_gt)\n",
    "    return np.sum(y_pred == y_gt) / len(y_gt)"
   ]
  },
  {
   "cell_type": "code",
   "execution_count": 30,
   "metadata": {},
   "outputs": [
    {
     "name": "stdout",
     "output_type": "stream",
     "text": [
      "     person  image\n",
      "0        13   5000\n",
      "1        13   5001\n",
      "2       180   5002\n",
      "3        13   5003\n",
      "4        13   5004\n",
      "..      ...    ...\n",
      "195      13   5195\n",
      "196      13   5196\n",
      "197      13   5197\n",
      "198     153   5198\n",
      "199      13   5199\n",
      "\n",
      "[200 rows x 2 columns]\n",
      "      person  image\n",
      "5000      13   5000\n",
      "5001      13   5001\n",
      "5002      13   5002\n",
      "5003      13   5003\n",
      "5004      13   5004\n",
      "...      ...    ...\n",
      "5195      13   5195\n",
      "5196      13   5196\n",
      "5197      13   5197\n",
      "5198      13   5198\n",
      "5199      13   5199\n",
      "\n",
      "[200 rows x 2 columns]\n"
     ]
    }
   ],
   "source": [
    "print(pred_data)\n",
    "print(gt_data[5000:5200])"
   ]
  },
  {
   "cell_type": "code",
   "execution_count": 31,
   "metadata": {},
   "outputs": [
    {
     "data": {
      "text/plain": [
       "0.9"
      ]
     },
     "execution_count": 31,
     "metadata": {},
     "output_type": "execute_result"
    }
   ],
   "source": [
    "accuracy(y_pred, y_gt)"
   ]
  },
  {
   "cell_type": "code",
   "execution_count": null,
   "metadata": {},
   "outputs": [],
   "source": []
  },
  {
   "cell_type": "code",
   "execution_count": null,
   "metadata": {},
   "outputs": [],
   "source": []
  },
  {
   "cell_type": "code",
   "execution_count": null,
   "metadata": {},
   "outputs": [],
   "source": []
  },
  {
   "cell_type": "code",
   "execution_count": null,
   "metadata": {},
   "outputs": [],
   "source": []
  },
  {
   "cell_type": "code",
   "execution_count": null,
   "metadata": {},
   "outputs": [],
   "source": []
  },
  {
   "cell_type": "code",
   "execution_count": null,
   "metadata": {},
   "outputs": [],
   "source": []
  },
  {
   "cell_type": "code",
   "execution_count": null,
   "metadata": {},
   "outputs": [],
   "source": []
  },
  {
   "cell_type": "code",
   "execution_count": null,
   "metadata": {},
   "outputs": [],
   "source": []
  },
  {
   "cell_type": "code",
   "execution_count": null,
   "metadata": {},
   "outputs": [],
   "source": []
  },
  {
   "cell_type": "code",
   "execution_count": null,
   "metadata": {},
   "outputs": [],
   "source": []
  },
  {
   "cell_type": "code",
   "execution_count": null,
   "metadata": {},
   "outputs": [],
   "source": []
  },
  {
   "cell_type": "code",
   "execution_count": null,
   "metadata": {},
   "outputs": [],
   "source": []
  },
  {
   "cell_type": "code",
   "execution_count": null,
   "metadata": {},
   "outputs": [],
   "source": []
  },
  {
   "cell_type": "code",
   "execution_count": null,
   "metadata": {},
   "outputs": [],
   "source": []
  }
 ],
 "metadata": {
  "kernelspec": {
   "display_name": "Python 3",
   "language": "python",
   "name": "python3"
  },
  "language_info": {
   "codemirror_mode": {
    "name": "ipython",
    "version": 3
   },
   "file_extension": ".py",
   "mimetype": "text/x-python",
   "name": "python",
   "nbconvert_exporter": "python",
   "pygments_lexer": "ipython3",
   "version": "3.6.10"
  }
 },
 "nbformat": 4,
 "nbformat_minor": 4
}

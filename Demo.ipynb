{
 "cells": [
  {
   "cell_type": "markdown",
   "metadata": {},
   "source": [
    "Реализован скрипт `facenet.py`. \n",
    "\n",
    "Пример вызова:\n",
    "```\n",
    "python facenet.py --first_dir <your database dir> --second_dir <images to identify> --save_dir <path to save results>\n",
    "```\n",
    "Предсказания модели сохраняются в `save_dir/results.csv` (содержит построчно через пробел `person` - `image`)"
   ]
  },
  {
   "cell_type": "markdown",
   "metadata": {},
   "source": [
    "Оценим качество модели:"
   ]
  },
  {
   "cell_type": "code",
   "execution_count": 1,
   "metadata": {},
   "outputs": [],
   "source": [
    "import pandas as pd\n",
    "import numpy as np\n",
    "\n",
    "# Read ground truth and predictions\n",
    "gt_data = pd.read_csv(\"./data/names.tsv\", sep='\\t', names=['true', 'image'])\n",
    "pred_data = pd.read_csv(\"./output/results.csv\", sep=' ', names=['pred', 'image'])\n",
    "\n",
    "# Merge data\n",
    "data = gt_data.join(pred_data.set_index('image'), on='image', how='inner')\n",
    "\n",
    "def accuracy(y_pred, y_gt):\n",
    "    \"\"\"y_pred and y_gt are 1d np.arrays\"\"\"\n",
    "    assert len(y_pred) == len(y_gt)\n",
    "    return np.sum(y_pred == y_gt) / len(y_gt)"
   ]
  },
  {
   "cell_type": "code",
   "execution_count": 2,
   "metadata": {},
   "outputs": [
    {
     "name": "stdout",
     "output_type": "stream",
     "text": [
      "Accuracy: 0.8255 on 10000 images\n"
     ]
    }
   ],
   "source": [
    "y_gt = data['true'].values\n",
    "y_pred = data['pred'].values\n",
    "\n",
    "print(f'Accuracy: {accuracy(y_pred, y_gt)} on {len(y_pred)} images')"
   ]
  },
  {
   "cell_type": "code",
   "execution_count": null,
   "metadata": {},
   "outputs": [],
   "source": []
  }
 ],
 "metadata": {
  "kernelspec": {
   "display_name": "Python 3",
   "language": "python",
   "name": "python3"
  },
  "language_info": {
   "codemirror_mode": {
    "name": "ipython",
    "version": 3
   },
   "file_extension": ".py",
   "mimetype": "text/x-python",
   "name": "python",
   "nbconvert_exporter": "python",
   "pygments_lexer": "ipython3",
   "version": "3.6.10"
  }
 },
 "nbformat": 4,
 "nbformat_minor": 4
}
